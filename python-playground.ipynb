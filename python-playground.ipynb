{
 "cells": [
  {
   "cell_type": "code",
   "execution_count": 30,
   "metadata": {
    "collapsed": false,
    "trusted": true
   },
   "source": [
    "### ***Tuple*** e ***setattr***"
   ]
   "outputs": [
    {
     "name": "stdout",
     "output_type": "stream",
     "text": [
      "2\n",
      "(2, 3)\n",
      "{(1, 2), (1, 2, 3), (3, 4)}\n"
     ]
    }
   ],
   "source": [
    "#Tuple\n",
    "T = (1,2,3)\n",
    "print(T[1])\n",
    "print(T[1:])\n",
    "B = {(1,2,3),(1,2),(3,4)}\n",
    "print(B)"
   ]
  },
  {
   "cell_type": "code",
   "execution_count": 31,
   "metadata": {
    "collapsed": false,
    "trusted": true
   },
   "outputs": [
    {
     "name": "stdout",
     "output_type": "stream",
     "text": [
      "1 2 3 4\n"
     ]
    }
   ],
   "source": [
    "#Liste\n",
    "elems = [1, 2, 3, 4]\n",
    "a, b, c, d = elems\n",
    "print(a, b, c, d)"
   ]
  },
  {
   "cell_type": "code",
   "execution_count": 32,
   "metadata": {
    "collapsed": false,
    "trusted": true
   },
   "outputs": [
    {
     "name": "stdout",
     "output_type": "stream",
     "text": [
      "[1, 3]\n",
      "[3, 1]\n"
     ]
    }
   ],
   "source": [
    "##Slicing\n",
    "evens = elems[::2]\n",
    "print(evens)\n",
    "\n",
    "reversed_evens = elems[-2::-2]\n",
    "print(reversed_evens)"
   ]
  },
  {
   "cell_type": "code",
   "execution_count": 33,
   "metadata": {
    "collapsed": false,
    "trusted": true
   },
   "outputs": [
    {
     "name": "stdout",
     "output_type": "stream",
     "text": [
      "[0, 99, 2, 3, 4, 5, 6, 7, 8, 9]\n"
     ]
    }
   ],
   "source": [
    "##Insertion\n",
    "elems = list(range(10))\n",
    "elems[1] = 99\n",
    "print(elems)"
   ]
  },
  {
   "cell_type": "code",
   "execution_count": 34,
   "metadata": {
    "collapsed": false,
    "trusted": true
   },
   "outputs": [
    {
     "data": {
      "text/plain": [
       "55"
      ]
     },
     "execution_count": 34,
     "metadata": {
     },
     "output_type": "execute_result"
    }
   ],
   "source": [
    "#Funzioni\n",
    "#Calcola i numeri di Fibonacci fino all'n-esimo\n",
    "def fib(n):\n",
    "    f0 = 0\n",
    "    f1 = 1\n",
    "    for _ in range(n-1):\n",
    "      f0, f1 = f1, f0+f1\n",
    "    return f1\n",
    "\n",
    "fib(10)"
   ]
  },
  {
   "cell_type": "code",
   "execution_count": 35,
   "metadata": {
    "collapsed": false,
    "trusted": true
   },
   "outputs": [
    {
     "name": "stdout",
     "output_type": "stream",
     "text": [
      "Tempo di esecuzione di insSort(A): 1381ms\n"
     ]
    }
   ],
   "source": [
    "#Decoratori\n",
    "from random import randint\n",
    "\n",
    "def my_timer(f):\n",
    "    from time import time\n",
    "    def timedfun(n):\n",
    "        start_time = int(round(time() * 1000))\n",
    "        res = f(n)\n",
    "        stop_time = int(round(time() * 1000))\n",
    "        timedfun.time = stop_time-start_time\n",
    "        return res\n",
    "    return timedfun\n",
    "\n",
    "@my_timer\n",
    "def insSort(A):\n",
    "    n = len(A)\n",
    "    for i in range(1,n):\n",
    "        temp = A[i]\n",
    "        j = i-1\n",
    "        while j>=0 and A[j]>temp:\n",
    "            A[j+1] = A[j]\n",
    "            j = j-1\n",
    "        A[j+1] = temp\n",
    "        \n",
    "n = 5000\n",
    "A = [randint(1,100) for _ in range(n)]\n",
    "\n",
    "insSort(A)\n",
    "print(\"Tempo di esecuzione di insSort(A): {}ms\".format(insSort.time))"
   ]
  },
  {
   "cell_type": "code",
   "execution_count": 36,
   "metadata": {
    "collapsed": false,
    "trusted": true
   },
   "outputs": [
    {
     "data": {
      "text/plain": [
       "42925"
      ]
     },
     "execution_count": 36,
     "metadata": {
     },
     "output_type": "execute_result"
    }
   ],
   "source": [
    "#Map-Reduce\n",
    "from functools import reduce\n",
    "\n",
    "def sum_of_squares_MR(n):\n",
    "    s=map(lambda i: i*i,range(1,n+1))\n",
    "    return reduce(lambda x,y:x+y,s)\n",
    "\n",
    "sum_of_squares_MR(50)"
   ]
  },
  {
   "cell_type": "code",
   "execution_count": 37,
   "metadata": {
    "collapsed": false,
    "trusted": true
   },
   "outputs": [
    {
     "data": {
      "text/plain": [
       "['Bran', 'Grammy', 'John', 'Norah', 'Zora']"
      ]
     },
     "execution_count": 37,
     "metadata": {
     },
     "output_type": "execute_result"
    }
   ],
   "source": [
    "#Lambda Function\n",
    "people = ['John', 'Zora', 'Bran', 'Grammy', 'Norah']\n",
    "sorted(people)"
   ]
  },
  {
   "cell_type": "code",
   "execution_count": 38,
   "metadata": {
    "collapsed": false,
    "trusted": true
   },
   "outputs": [
    {
     "data": {
      "text/plain": [
       "['Bran', 'Grammy', 'John', 'Norah', 'Zora']"
      ]
     },
     "execution_count": 38,
     "metadata": {
     },
     "output_type": "execute_result"
    }
   ],
   "source": [
    "sorted(people,key=lambda x: x.split()[-1])  # Sort by family name"
   ]
  },
  {
   "cell_type": "code",
   "execution_count": 39,
   "metadata": {
    "collapsed": false,
    "trusted": true
   },
   "outputs": [
    {
     "data": {
      "text/plain": [
       "[(6, -5), (-3, 5), (1, 4), (2, 6)]"
      ]
     },
     "execution_count": 39,
     "metadata": {
     },
     "output_type": "execute_result"
    }
   ],
   "source": [
    "pairs = ((1,4),(-3,5),(2,6),(6,-5))\n",
    "sorted(pairs, key=lambda x: sum(x))  # Sort by increasing sum"
   ]
  },
  {
   "cell_type": "code",
   "execution_count": 40,
   "metadata": {
    "collapsed": false,
    "trusted": true
   },
   "outputs": [
    {
     "data": {
      "text/plain": [
       "(6, -5)"
      ]
     },
     "execution_count": 40,
     "metadata": {
     },
     "output_type": "execute_result"
    }
   ],
   "source": [
    "min(pairs,key=lambda x: sum(x))"
   ]
  },
  {
   "cell_type": "code",
   "execution_count": 41,
   "metadata": {
    "collapsed": false,
    "trusted": true
   },
   "outputs": [
    {
     "name": "stdout",
     "output_type": "stream",
     "text": [
      "n\tRapporto F_n/F_n-1={}\tScarto con phi\n",
      "2\t1.0000000000\t\t-0.382\n",
      "3\t2.0000000000\t\t0.236\n",
      "4\t1.5000000000\t\t-0.0729\n",
      "5\t1.6666666667\t\t0.0301\n",
      "6\t1.6000000000\t\t-0.0111\n",
      "7\t1.6250000000\t\t0.00431\n",
      "8\t1.6153846154\t\t-0.00164\n",
      "9\t1.6190476190\t\t0.000626\n",
      "10\t1.6176470588\t\t-0.000239\n",
      "11\t1.6181818182\t\t9.14e-05\n",
      "12\t1.6179775281\t\t-3.49e-05\n",
      "13\t1.6180555556\t\t1.33e-05\n",
      "14\t1.6180257511\t\t-5.09e-06\n",
      "15\t1.6180371353\t\t1.94e-06\n",
      "16\t1.6180327869\t\t-7.43e-07\n",
      "17\t1.6180344478\t\t2.84e-07\n",
      "18\t1.6180338134\t\t-1.08e-07\n",
      "19\t1.6180340557\t\t4.14e-08\n",
      "20\t1.6180339632\t\t-1.58e-08\n",
      "21\t1.6180339985\t\t6.04e-09\n",
      "22\t1.6180339850\t\t-2.31e-09\n",
      "23\t1.6180339902\t\t8.81e-10\n",
      "24\t1.6180339882\t\t-3.37e-10\n",
      "25\t1.6180339890\t\t1.29e-10\n",
      "26\t1.6180339887\t\t-4.91e-11\n",
      "27\t1.6180339888\t\t1.88e-11\n",
      "28\t1.6180339887\t\t-7.16e-12\n",
      "29\t1.6180339888\t\t2.74e-12\n",
      "30\t1.6180339887\t\t-1.05e-12\n",
      "31\t1.6180339888\t\t3.99e-13\n",
      "32\t1.6180339887\t\t-1.52e-13\n",
      "33\t1.6180339887\t\t5.82e-14\n",
      "34\t1.6180339887\t\t-2.22e-14\n",
      "35\t1.6180339887\t\t8.51e-15\n",
      "36\t1.6180339887\t\t-3.29e-15\n",
      "37\t1.6180339887\t\t1.24e-15\n",
      "38\t1.6180339887\t\t-5.49e-16\n",
      "39\t1.6180339887\t\t1.37e-16\n",
      "40\t1.6180339887\t\t-1.37e-16\n",
      "41\t1.6180339887\t\t0.0\n",
      "42\t1.6180339887\t\t0.0\n",
      "43\t1.6180339887\t\t0.0\n",
      "44\t1.6180339887\t\t0.0\n",
      "45\t1.6180339887\t\t0.0\n",
      "46\t1.6180339887\t\t0.0\n",
      "47\t1.6180339887\t\t0.0\n",
      "48\t1.6180339887\t\t0.0\n",
      "49\t1.6180339887\t\t0.0\n",
      "50\t1.6180339887\t\t0.0\n"
     ]
    }
   ],
   "source": [
    "#Curiosità sull'andamento della funzione fib\n",
    "from math import sqrt\n",
    "\n",
    "phi = (1+sqrt(5))/2\n",
    "F0 = fib(1)\n",
    "print(\"n\\tRapporto F_n/F_n-1={}\\tScarto con phi\")\n",
    "for n in range(2,51):\n",
    "    F1 = fib(n)\n",
    "    R = F1/F0\n",
    "    F0 = F1\n",
    "    print(\"{0}\\t{1:.10f}\\t\\t{2:.3}\".format(n,R,(R-phi)/phi))"
   ]
  }
 ],
 "metadata": {
  "kernelspec": {
   "display_name": "Python 3 (system-wide)",
   "language": "python",
   "metadata": {
    "cocalc": {
     "description": "Python 3 programming language",
     "priority": 100,
     "url": "https://www.python.org/"
    }
   },
   "name": "python3"
  },
  "language_info": {
   "codemirror_mode": {
    "name": "ipython",
    "version": 3
   },
   "file_extension": ".py",
   "mimetype": "text/x-python",
   "name": "python",
   "nbconvert_exporter": "python",
   "pygments_lexer": "ipython3",
   "version": "3.8.5"
  }
 },
 "nbformat": 4,
 "nbformat_minor": 4
}
